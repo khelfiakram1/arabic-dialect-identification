{
 "cells": [
  {
   "cell_type": "code",
   "execution_count": 2,
   "metadata": {},
   "outputs": [
    {
     "name": "stderr",
     "output_type": "stream",
     "text": [
      "/var/folders/g7/9btfkc0s1_vbzyx4w948nhrw0000gn/T/ipykernel_25705/3038154866.py:29: DeprecationWarning: `np.int` is a deprecated alias for the builtin `int`. To silence this warning, use `int` by itself. Doing this will not modify any behavior and is safe. When replacing `np.int`, you may wish to use e.g. `np.int64` or `np.int32` to specify the precision. If you wish to review your current use, check the release note link for additional information.\n",
      "Deprecated in NumPy 1.20; for more details and guidance: https://numpy.org/devdocs/release/1.20.0-notes.html#deprecations\n",
      "  test_feat_batch = tf.compat.v1.placeholder(tf.float32, [None,None,np.int(INPUT_DIM)],name=\"test_feat_batch\")\n"
     ]
    },
    {
     "ename": "AttributeError",
     "evalue": "module 'tensorflow' has no attribute 'variable_scope'",
     "output_type": "error",
     "traceback": [
      "\u001b[0;31m---------------------------------------------------------------------------\u001b[0m",
      "\u001b[0;31mAttributeError\u001b[0m                            Traceback (most recent call last)",
      "Input \u001b[0;32mIn [2]\u001b[0m, in \u001b[0;36m<cell line: 34>\u001b[0;34m()\u001b[0m\n\u001b[1;32m     31\u001b[0m test_shape_batch \u001b[38;5;241m=\u001b[39m tf\u001b[38;5;241m.\u001b[39mcompat\u001b[38;5;241m.\u001b[39mv1\u001b[38;5;241m.\u001b[39mplaceholder(tf\u001b[38;5;241m.\u001b[39mint32, [\u001b[38;5;28;01mNone\u001b[39;00m,\u001b[38;5;241m2\u001b[39m],name\u001b[38;5;241m=\u001b[39m\u001b[38;5;124m\"\u001b[39m\u001b[38;5;124mtest_shape_batch\u001b[39m\u001b[38;5;124m\"\u001b[39m)\n\u001b[1;32m     33\u001b[0m \u001b[38;5;66;03m#init model\u001b[39;00m\n\u001b[0;32m---> 34\u001b[0m emnet_validation \u001b[38;5;241m=\u001b[39m \u001b[43mnn_model\u001b[49m\u001b[38;5;241;43m.\u001b[39;49m\u001b[43mnn\u001b[49m\u001b[43m(\u001b[49m\u001b[43mtest_feat_batch\u001b[49m\u001b[43m,\u001b[49m\u001b[43mtest_label_batch\u001b[49m\u001b[43m,\u001b[49m\u001b[43mtest_label_batch\u001b[49m\u001b[43m,\u001b[49m\u001b[43mtest_shape_batch\u001b[49m\u001b[43m,\u001b[49m\u001b[43m \u001b[49m\u001b[43mSOFTMAX_NUM\u001b[49m\u001b[43m,\u001b[49m\u001b[38;5;28;43;01mFalse\u001b[39;49;00m\u001b[43m,\u001b[49m\u001b[43mINPUT_DIM\u001b[49m\u001b[43m,\u001b[49m\u001b[43mis_batchnorm\u001b[49m\u001b[43m)\u001b[49m;\n\u001b[1;32m     35\u001b[0m tf\u001b[38;5;241m.\u001b[39mcompat\u001b[38;5;241m.\u001b[39mv1\u001b[38;5;241m.\u001b[39mget_variable_scope()\u001b[38;5;241m.\u001b[39mreuse_variables()\n\u001b[1;32m     36\u001b[0m sess \u001b[38;5;241m=\u001b[39m tf\u001b[38;5;241m.\u001b[39mInteractiveSession()\n",
      "File \u001b[0;32m~/Desktop/Master topic /arabic-dialect-identification/./scripts/lang2vec.py:8\u001b[0m, in \u001b[0;36mnn.__init__\u001b[0;34m(self, x1, y_, y_string, shapes_batch, softmax_num, is_training, input_dim, is_batchnorm)\u001b[0m\n\u001b[1;32m      6\u001b[0m \u001b[38;5;28;01mdef\u001b[39;00m \u001b[38;5;21m__init__\u001b[39m(\u001b[38;5;28mself\u001b[39m, x1, y_, y_string, shapes_batch, softmax_num,is_training,input_dim, is_batchnorm):\n\u001b[0;32m----> 8\u001b[0m \t\u001b[38;5;28;01mwith\u001b[39;00m \u001b[43mtf\u001b[49m\u001b[38;5;241;43m.\u001b[39;49m\u001b[43mvariable_scope\u001b[49m(\u001b[38;5;124m\"\u001b[39m\u001b[38;5;124msoftmax\u001b[39m\u001b[38;5;124m\"\u001b[39m) \u001b[38;5;28;01mas\u001b[39;00m scope:\n\u001b[1;32m      9\u001b[0m \t\t\u001b[38;5;28mself\u001b[39m\u001b[38;5;241m.\u001b[39mea, \u001b[38;5;28mself\u001b[39m\u001b[38;5;241m.\u001b[39meb, \u001b[38;5;28mself\u001b[39m\u001b[38;5;241m.\u001b[39mo1,\u001b[38;5;28mself\u001b[39m\u001b[38;5;241m.\u001b[39mres1,\u001b[38;5;28mself\u001b[39m\u001b[38;5;241m.\u001b[39mconv,\u001b[38;5;28mself\u001b[39m\u001b[38;5;241m.\u001b[39mac1,\u001b[38;5;28mself\u001b[39m\u001b[38;5;241m.\u001b[39mac2 \u001b[38;5;241m=\u001b[39m \u001b[38;5;28mself\u001b[39m\u001b[38;5;241m.\u001b[39mnet(x1, shapes_batch, softmax_num,is_training,input_dim,is_batchnorm)\n\u001b[1;32m     11\u001b[0m \t\t\u001b[38;5;66;03m# Create loss\u001b[39;00m\n",
      "\u001b[0;31mAttributeError\u001b[0m: module 'tensorflow' has no attribute 'variable_scope'"
     ]
    }
   ],
   "source": [
    "import sys\n",
    "import tensorflow as tf\n",
    "#added\n",
    "tf.compat.v1.keras.utils.track_tf1_style_variables \n",
    "tf.compat.v1.disable_eager_execution()\n",
    "\n",
    "\n",
    "#\n",
    "import numpy as np\n",
    "sys.path.insert(0, './scripts')\n",
    "from tqdm import tqdm\n",
    "import feature_tools as ft\n",
    "\n",
    "#init params\n",
    "NN_MODEL = 'lang2vec'\n",
    "INPUT_DIM = 40\n",
    "is_batchnorm = False\n",
    "SOFTMAX_NUM = 17\n",
    "nn_model = __import__(NN_MODEL)\n",
    "FEAT_TYPE='mfcc'\n",
    "N_FFT=400\n",
    "HOP=160\n",
    "VAD=True\n",
    "CMVN='m'\n",
    "DATA_ROOT='/your_own_folder'\n",
    "\n",
    "\n",
    "#init placeholder\n",
    "test_feat_batch = tf.compat.v1.placeholder(tf.float32, [None,None,np.int(INPUT_DIM)],name=\"test_feat_batch\")\n",
    "test_label_batch = tf.compat.v1.placeholder(tf.int32, [None],name=\"test_label_batch\")\n",
    "test_shape_batch = tf.compat.v1.placeholder(tf.int32, [None,2],name=\"test_shape_batch\")\n",
    "\n",
    "#init model\n",
    "emnet_validation = nn_model.nn(test_feat_batch,test_label_batch,test_label_batch,test_shape_batch, SOFTMAX_NUM,False,INPUT_DIM,is_batchnorm);\n",
    "tf.compat.v1.get_variable_scope().reuse_variables()\n",
    "sess = tf.InteractiveSession()\n",
    "saver = tf.train.Saver()\n",
    "tf.initialize_all_variables().run()\n",
    "\n",
    "#load pretrained model\n",
    "RESUME_STARTPOINT = 7712000\n",
    "saver.restore(sess,'data/pretrained_model/model'+str(RESUME_STARTPOINT)+'.ckpt-'+str(RESUME_STARTPOINT))"
   ]
  },
  {
   "cell_type": "code",
   "execution_count": 2,
   "metadata": {},
   "outputs": [
    {
     "ename": "SyntaxError",
     "evalue": "Missing parentheses in call to 'print'. Did you mean print(output)? (2465511237.py, line 13)",
     "output_type": "error",
     "traceback": [
      "\u001b[0;36m  Input \u001b[0;32mIn [2]\u001b[0;36m\u001b[0m\n\u001b[0;31m    print output\u001b[0m\n\u001b[0m          ^\u001b[0m\n\u001b[0;31mSyntaxError\u001b[0m\u001b[0;31m:\u001b[0m Missing parentheses in call to 'print'. Did you mean print(output)?\n"
     ]
    }
   ],
   "source": [
    "wav_list = ['/data/sls/arabic/corpus/mgb5/adi/dev_segments/2XwBQJ7eHKs_056439-057583.wav']\n",
    "\n",
    "#feature extraction\n",
    "feat, _, utt_shape, tffilename = ft.feat_extract(wav_list,FEAT_TYPE,N_FFT,HOP,VAD,CMVN,0)\n",
    "\n",
    "#extract output layer\n",
    "output = []\n",
    "for iter in tqdm(range(len(feat))):\n",
    "    o1 = emnet_validation.o1.eval({test_feat_batch:[feat[iter]], test_shape_batch:[utt_shape[iter]]})\n",
    "    output.extend([o1])\n",
    "output = np.squeeze(output)\n",
    "\n",
    "print output"
   ]
  },
  {
   "cell_type": "code",
   "execution_count": 3,
   "metadata": {},
   "outputs": [
    {
     "data": {
      "text/plain": [
       "Text(0.5,1,u'Dialect identification offline test result')"
      ]
     },
     "execution_count": 3,
     "metadata": {},
     "output_type": "execute_result"
    },
    {
     "data": {
      "image/png": "[encoded data removed]",
      "text/plain": [
       "<matplotlib.figure.Figure at 0x7f74e5049c90>"
      ]
     },
     "metadata": {},
     "output_type": "display_data"
    }
   ],
   "source": [
    "dialects = []\n",
    "for line in open('data/language_id_initial').readlines():\n",
    "    dialects.append(line.rstrip().split()[0])\n",
    "\n",
    "import matplotlib.pyplot as plt; plt.rcdefaults()\n",
    "import matplotlib.pyplot as plt\n",
    "# matplotlib.use('Agg')\n",
    "%matplotlib inline\n",
    "\n",
    "x = np.arange(17)\n",
    "plt.figure(figsize=(10, 5))\n",
    "plt.bar(x,output,align='center')\n",
    "plt.xticks(x,dialects)\n",
    "plt.ylabel('Likelihood')\n",
    "plt.title('Dialect identification offline test result')"
   ]
  },
  {
   "cell_type": "code",
   "execution_count": null,
   "metadata": {},
   "outputs": [],
   "source": []
  }
 ],
 "metadata": {
  "kernelspec": {
   "display_name": "Python 3 (ipykernel)",
   "language": "python",
   "name": "python3"
  },
  "language_info": {
   "codemirror_mode": {
    "name": "ipython",
    "version": 3
   },
   "file_extension": ".py",
   "mimetype": "text/x-python",
   "name": "python",
   "nbconvert_exporter": "python",
   "pygments_lexer": "ipython3",
   "version": "3.9.10"
  }
 },
 "nbformat": 4,
 "nbformat_minor": 2
}
