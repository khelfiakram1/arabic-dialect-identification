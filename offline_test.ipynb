{
 "cells": [
  {
   "cell_type": "code",
   "execution_count": 1,
   "metadata": {},
   "outputs": [
    {
     "name": "stderr",
     "output_type": "stream",
     "text": [
      "/data/sls/u/swshon/virtualenv_18/pytf/local/lib/python2.7/site-packages/librosa/__init__.py:40: DeprecationWarning: You are using librosa with Python 2. Please note that librosa 0.7 will be the last version to support Python 2, after which it will require Python 3 or later.\n",
      "  DeprecationWarning)\n",
      "WARNING: Logging before flag parsing goes to stderr.\n",
      "W1122 12:47:57.507527 140143317190464 deprecation_wrapper.py:119] From ./scripts/lang2vec.py:8: The name tf.variable_scope is deprecated. Please use tf.compat.v1.variable_scope instead.\n",
      "\n",
      "W1122 12:47:57.522263 140143317190464 deprecation_wrapper.py:119] From ./scripts/lang2vec.py:116: The name tf.get_variable is deprecated. Please use tf.compat.v1.get_variable instead.\n",
      "\n",
      "W1122 12:47:58.589189 140143317190464 lazy_loader.py:50] \n",
      "The TensorFlow contrib module will not be included in TensorFlow 2.0.\n",
      "For more information, please see:\n",
      "  * https://github.com/tensorflow/community/blob/master/rfcs/20180907-contrib-sunset.md\n",
      "  * https://github.com/tensorflow/addons\n",
      "  * https://github.com/tensorflow/io (for I/O related ops)\n",
      "If you depend on functionality not listed there, please file an issue.\n",
      "\n",
      "W1122 12:47:58.634367 140143317190464 deprecation.py:323] From ./scripts/lang2vec.py:122: where (from tensorflow.python.ops.array_ops) is deprecated and will be removed in a future version.\n",
      "Instructions for updating:\n",
      "Use tf.where in 2.0, which has the same broadcast rule as np.where\n",
      "W1122 12:47:58.815927 140143317190464 deprecation.py:506] From ./scripts/lang2vec.py:73: calling reduce_sum_v1 (from tensorflow.python.ops.math_ops) with keep_dims is deprecated and will be removed in a future version.\n",
      "Instructions for updating:\n",
      "keep_dims is deprecated, use keepdims instead\n",
      "W1122 12:47:58.835582 140143317190464 deprecation_wrapper.py:119] From ./scripts/lang2vec.py:105: The name tf.random_uniform is deprecated. Please use tf.random.uniform instead.\n",
      "\n"
     ]
    },
    {
     "name": "stdout",
     "output_type": "stream",
     "text": [
      "Tensor(\"softmax/transpose:0\", shape=(?, ?, ?), dtype=float32)\n",
      "Tensor(\"softmax/transpose_1:0\", shape=(?, ?, ?), dtype=float32)\n",
      "Tensor(\"softmax/transpose_2:0\", shape=(?, ?, ?), dtype=float32)\n",
      "Tensor(\"softmax/transpose_3:0\", shape=(?, ?, ?), dtype=float32)\n",
      "Tensor(\"softmax/Mul:0\", shape=(?, ?, 1000), dtype=float32)\n",
      "(?, 3000)\n",
      "(?, 1500)\n",
      "(?, 600)\n"
     ]
    },
    {
     "name": "stderr",
     "output_type": "stream",
     "text": [
      "W1122 12:48:00.076483 140143317190464 deprecation.py:323] From /data/sls/u/swshon/virtualenv_18/pytf/local/lib/python2.7/site-packages/tensorflow/python/util/tf_should_use.py:193: initialize_all_variables (from tensorflow.python.ops.variables) is deprecated and will be removed after 2017-03-02.\n",
      "Instructions for updating:\n",
      "Use `tf.global_variables_initializer` instead.\n",
      "W1122 12:48:00.753942 140143317190464 deprecation.py:323] From /data/sls/u/swshon/virtualenv_18/pytf/local/lib/python2.7/site-packages/tensorflow/python/training/saver.py:1276: checkpoint_exists (from tensorflow.python.training.checkpoint_management) is deprecated and will be removed in a future version.\n",
      "Instructions for updating:\n",
      "Use standard file APIs to check for files with this prefix.\n"
     ]
    }
   ],
   "source": [
    "import sys\n",
    "import tensorflow as tf\n",
    "import numpy as np\n",
    "sys.path.insert(0, './scripts')\n",
    "from tqdm import tqdm\n",
    "import feature_tools as ft\n",
    "\n",
    "#init params\n",
    "NN_MODEL = 'lang2vec'\n",
    "INPUT_DIM = 40\n",
    "is_batchnorm = False\n",
    "SOFTMAX_NUM = 17\n",
    "nn_model = __import__(NN_MODEL)\n",
    "FEAT_TYPE='mfcc'\n",
    "N_FFT=400\n",
    "HOP=160\n",
    "VAD=True\n",
    "CMVN='m'\n",
    "DATA_ROOT='/your_own_folder'\n",
    "\n",
    "\n",
    "#init placeholder\n",
    "test_feat_batch = tf.placeholder(tf.float32, [None,None,np.int(INPUT_DIM)],name=\"test_feat_batch\")\n",
    "test_label_batch = tf.placeholder(tf.int32, [None],name=\"test_label_batch\")\n",
    "test_shape_batch = tf.placeholder(tf.int32, [None,2],name=\"test_shape_batch\")\n",
    "\n",
    "#init model\n",
    "emnet_validation = nn_model.nn(test_feat_batch,test_label_batch,test_label_batch,test_shape_batch, SOFTMAX_NUM,False,INPUT_DIM,is_batchnorm);\n",
    "tf.get_variable_scope().reuse_variables()\n",
    "sess = tf.InteractiveSession()\n",
    "saver = tf.train.Saver()\n",
    "tf.initialize_all_variables().run()\n",
    "\n",
    "#load pretrained model\n",
    "RESUME_STARTPOINT = 7712000\n",
    "saver.restore(sess,'data/pretrained_model/model'+str(RESUME_STARTPOINT)+'.ckpt-'+str(RESUME_STARTPOINT))"
   ]
  },
  {
   "cell_type": "code",
   "execution_count": 2,
   "metadata": {},
   "outputs": [
    {
     "name": "stderr",
     "output_type": "stream",
     "text": [
      "100%|██████████| 1/1 [00:00<00:00,  5.71it/s]\n",
      "100%|██████████| 1/1 [00:01<00:00,  1.39s/it]"
     ]
    },
    {
     "name": "stdout",
     "output_type": "stream",
     "text": [
      "[12.810355    2.6798737   4.2583055  -1.5822484  -0.77033234 -1.9868536\n",
      " -3.5719857  -0.6957663   0.92964137  3.286277   -0.15940854 -4.2814565\n",
      " -3.185078   -1.564724   -0.43759388  2.4331825  -5.155079  ]\n"
     ]
    },
    {
     "name": "stderr",
     "output_type": "stream",
     "text": [
      "\n"
     ]
    }
   ],
   "source": [
    "wav_list = ['/data/sls/arabic/corpus/mgb5/adi/dev_segments/2XwBQJ7eHKs_056439-057583.wav']\n",
    "\n",
    "#feature extraction\n",
    "feat, _, utt_shape, tffilename = ft.feat_extract(wav_list,FEAT_TYPE,N_FFT,HOP,VAD,CMVN,0)\n",
    "\n",
    "#extract output layer\n",
    "output = []\n",
    "for iter in tqdm(range(len(feat))):\n",
    "    o1 = emnet_validation.o1.eval({test_feat_batch:[feat[iter]], test_shape_batch:[utt_shape[iter]]})\n",
    "    output.extend([o1])\n",
    "output = np.squeeze(output)\n",
    "\n",
    "print output"
   ]
  },
  {
   "cell_type": "code",
   "execution_count": 3,
   "metadata": {},
   "outputs": [
    {
     "data": {
      "text/plain": [
       "Text(0.5,1,u'Dialect identification offline test result')"
      ]
     },
     "execution_count": 3,
     "metadata": {},
     "output_type": "execute_result"
    },
    {
     "data": {
      "image/png": "[encoded data removed]",
      "text/plain": [
       "<matplotlib.figure.Figure at 0x7f74e5049c90>"
      ]
     },
     "metadata": {},
     "output_type": "display_data"
    }
   ],
   "source": [
    "dialects = []\n",
    "for line in open('data/language_id_initial').readlines():\n",
    "    dialects.append(line.rstrip().split()[0])\n",
    "\n",
    "import matplotlib.pyplot as plt; plt.rcdefaults()\n",
    "import matplotlib.pyplot as plt\n",
    "# matplotlib.use('Agg')\n",
    "%matplotlib inline\n",
    "\n",
    "x = np.arange(17)\n",
    "plt.figure(figsize=(10, 5))\n",
    "plt.bar(x,output,align='center')\n",
    "plt.xticks(x,dialects)\n",
    "plt.ylabel('Likelihood')\n",
    "plt.title('Dialect identification offline test result')"
   ]
  },
  {
   "cell_type": "code",
   "execution_count": null,
   "metadata": {},
   "outputs": [],
   "source": []
  }
 ],
 "metadata": {
  "kernelspec": {
   "display_name": "Python 2",
   "language": "python",
   "name": "python2"
  },
  "language_info": {
   "codemirror_mode": {
    "name": "ipython",
    "version": 2
   },
   "file_extension": ".py",
   "mimetype": "text/x-python",
   "name": "python",
   "nbconvert_exporter": "python",
   "pygments_lexer": "ipython2",
   "version": "2.7.15+"
  }
 },
 "nbformat": 4,
 "nbformat_minor": 2
}
