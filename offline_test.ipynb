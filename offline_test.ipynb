{
 "cells": [
  {
   "cell_type": "code",
   "execution_count": 5,
   "metadata": {},
   "outputs": [
    {
     "name": "stderr",
     "output_type": "stream",
     "text": [
      "/var/folders/g7/9btfkc0s1_vbzyx4w948nhrw0000gn/T/ipykernel_85698/3493276684.py:29: DeprecationWarning: `np.int` is a deprecated alias for the builtin `int`. To silence this warning, use `int` by itself. Doing this will not modify any behavior and is safe. When replacing `np.int`, you may wish to use e.g. `np.int64` or `np.int32` to specify the precision. If you wish to review your current use, check the release note link for additional information.\n",
      "Deprecated in NumPy 1.20; for more details and guidance: https://numpy.org/devdocs/release/1.20.0-notes.html#deprecations\n",
      "  test_feat_batch = tf.compat.v1.placeholder(tf.float32, [None,None,np.int(INPUT_DIM)],name=\"test_feat_batch\")\n",
      "2022-05-09 10:02:39.691404: I tensorflow/core/common_runtime/pluggable_device/pluggable_device_factory.cc:305] Could not identify NUMA node of platform GPU ID 0, defaulting to 0. Your kernel may not have been built with NUMA support.\n",
      "2022-05-09 10:02:39.691753: I tensorflow/core/common_runtime/pluggable_device/pluggable_device_factory.cc:271] Created TensorFlow device (/job:localhost/replica:0/task:0/device:GPU:0 with 0 MB memory) -> physical PluggableDevice (device: 0, name: METAL, pci bus id: <undefined>)\n",
      "/Users/mac/miniforge3/lib/python3.9/site-packages/tensorflow/python/client/session.py:1768: UserWarning: An interactive session is already active. This can cause out-of-memory errors in some cases. You must explicitly call `InteractiveSession.close()` to release resources held by the other session(s).\n",
      "  warnings.warn('An interactive session is already active. This can '\n"
     ]
    },
    {
     "name": "stdout",
     "output_type": "stream",
     "text": [
      "Tensor(\"softmax_1/transpose:0\", shape=(None, None, 1000), dtype=float32)\n",
      "Tensor(\"softmax_1/transpose_1:0\", shape=(None, None, 1000), dtype=float32)\n",
      "Tensor(\"softmax_1/transpose_2:0\", shape=(None, None, 1000), dtype=float32)\n",
      "Tensor(\"softmax_1/transpose_3:0\", shape=(None, None, 1500), dtype=float32)\n",
      "Tensor(\"softmax_1/Mul:0\", shape=(None, None, 1000), dtype=float32)\n",
      "(None, 3000)\n",
      "(None, 1500)\n",
      "(None, 600)\n",
      "INFO:tensorflow:Restoring parameters from data/pretrained_model/model7712000.ckpt-7712000\n"
     ]
    }
   ],
   "source": [
    "import sys\n",
    "import tensorflow as tf\n",
    "#added\n",
    "tf.compat.v1.keras.utils.track_tf1_style_variables \n",
    "tf.compat.v1.disable_eager_execution()\n",
    "\n",
    "\n",
    "#\n",
    "import numpy as np\n",
    "sys.path.insert(0, './scripts')\n",
    "from tqdm import tqdm\n",
    "import feature_tools as ft\n",
    "\n",
    "#init params\n",
    "NN_MODEL = 'lang2vec'\n",
    "INPUT_DIM = 40\n",
    "is_batchnorm = False\n",
    "SOFTMAX_NUM = 17\n",
    "nn_model = __import__(NN_MODEL)\n",
    "FEAT_TYPE='mfcc'\n",
    "N_FFT=400\n",
    "HOP=160\n",
    "VAD=True\n",
    "CMVN='m'\n",
    "DATA_ROOT='/your_own_folder'\n",
    "\n",
    "\n",
    "#init placeholder\n",
    "test_feat_batch = tf.compat.v1.placeholder(tf.float32, [None,None,np.int(INPUT_DIM)],name=\"test_feat_batch\")\n",
    "test_label_batch = tf.compat.v1.placeholder(tf.int32, [None],name=\"test_label_batch\")\n",
    "test_shape_batch = tf.compat.v1.placeholder(tf.int32, [None,2],name=\"test_shape_batch\")\n",
    "\n",
    "#init model\n",
    "emnet_validation = nn_model.nn(test_feat_batch,test_label_batch,test_label_batch,test_shape_batch, SOFTMAX_NUM,False,INPUT_DIM,is_batchnorm);\n",
    "tf.compat.v1.get_variable_scope().reuse_variables()\n",
    "sess = tf.compat.v1.InteractiveSession()\n",
    "saver = tf.compat.v1.train.Saver()\n",
    "tf.compat.v1.global_variables_initializer().run()\n",
    "\n",
    "#load pretrained model\n",
    "RESUME_STARTPOINT = 7712000\n",
    "saver.restore(sess,'data/pretrained_model/model'+str(RESUME_STARTPOINT)+'.ckpt-'+str(RESUME_STARTPOINT))"
   ]
  },
  {
   "cell_type": "code",
   "execution_count": 8,
   "metadata": {},
   "outputs": [
    {
     "name": "stderr",
     "output_type": "stream",
     "text": [
      "  0%|                                                     | 0/1 [00:00<?, ?it/s]/Users/mac/Desktop/Master_topic/arabic_dialect_identification_v2/./scripts/feature_tools.py:57: FutureWarning: Pass y=[ 0.00683594  0.00744629  0.00585938 ...  0.00079346 -0.00137329\n",
      " -0.00253296], sr=16000 as keyword args. From version 0.10 passing these as positional arguments will result in an error\n",
      "  Y = librosa.feature.mfcc(y,sr,n_fft=n_fft_length,hop_length=hop,n_mfcc=40,fmin=133,fmax=6955)\n",
      "/Users/mac/Desktop/Master_topic/arabic_dialect_identification_v2/./scripts/feature_tools.py:77: FutureWarning: Pass y=[ 0.00683594  0.00744629  0.00585938 ...  0.00079346 -0.00137329\n",
      " -0.00253296] as keyword args. From version 0.10 passing these as positional arguments will result in an error\n",
      "  E = librosa.feature.rms(y, frame_length=n_fft_length,hop_length=hop,)\n",
      "100%|█████████████████████████████████████████████| 1/1 [00:00<00:00, 15.05it/s]\n",
      "100%|█████████████████████████████████████████████| 1/1 [00:00<00:00,  5.79it/s]"
     ]
    },
    {
     "name": "stdout",
     "output_type": "stream",
     "text": [
      "[-0.80319107 11.656134   -3.9971428   5.005442   -0.13741374  0.11655271\n",
      "  0.5420608   1.3633422   0.2572124   0.5312619  -2.0948212   0.82006687\n",
      " -3.0744617  -6.930929    4.9400926   2.6363657  -2.8165    ]\n"
     ]
    },
    {
     "name": "stderr",
     "output_type": "stream",
     "text": [
      "\n"
     ]
    }
   ],
   "source": [
    "wav_list = ['./dev_segments/6Uhm_-qTBj4_107433-108167.wav']\n",
    "\n",
    "#feature extraction\n",
    "feat, _, utt_shape, tffilename = ft.feat_extract(wav_list,FEAT_TYPE,N_FFT,HOP,VAD,CMVN,0)\n",
    "\n",
    "#extract output layer\n",
    "output = []\n",
    "for iter in tqdm(range(len(feat))):\n",
    "    o1 = emnet_validation.o1.eval({test_feat_batch:[feat[iter]], test_shape_batch:[utt_shape[iter]]})\n",
    "    output.extend([o1])\n",
    "output = np.squeeze(output)\n",
    "\n",
    "print (output)"
   ]
  },
  {
   "cell_type": "code",
   "execution_count": 9,
   "metadata": {},
   "outputs": [
    {
     "data": {
      "text/plain": [
       "Text(0.5, 1.0, 'Dialect identification offline test result')"
      ]
     },
     "execution_count": 9,
     "metadata": {},
     "output_type": "execute_result"
    },
    {
     "data": {
      "image/png": "[encoded data removed]",
      "text/plain": [
       "<Figure size 720x360 with 1 Axes>"
      ]
     },
     "metadata": {
      "needs_background": "light"
     },
     "output_type": "display_data"
    }
   ],
   "source": [
    "dialects = []\n",
    "for line in open('data/language_id_initial').readlines():\n",
    "    dialects.append(line.rstrip().split()[0])\n",
    "\n",
    "import matplotlib.pyplot as plt; plt.rcdefaults()\n",
    "import matplotlib.pyplot as plt\n",
    "# matplotlib.use('Agg')\n",
    "%matplotlib inline\n",
    "\n",
    "x = np.arange(17)\n",
    "plt.figure(figsize=(10, 5))\n",
    "plt.bar(x,output,align='center')\n",
    "plt.xticks(x,dialects)\n",
    "plt.ylabel('Likelihood')\n",
    "plt.title('Dialect identification offline test result')"
   ]
  },
  {
   "cell_type": "code",
   "execution_count": null,
   "metadata": {},
   "outputs": [],
   "source": []
  }
 ],
 "metadata": {
  "kernelspec": {
   "display_name": "Python 3 (ipykernel)",
   "language": "python",
   "name": "python3"
  },
  "language_info": {
   "codemirror_mode": {
    "name": "ipython",
    "version": 3
   },
   "file_extension": ".py",
   "mimetype": "text/x-python",
   "name": "python",
   "nbconvert_exporter": "python",
   "pygments_lexer": "ipython3",
   "version": "3.9.10"
  }
 },
 "nbformat": 4,
 "nbformat_minor": 2
}
